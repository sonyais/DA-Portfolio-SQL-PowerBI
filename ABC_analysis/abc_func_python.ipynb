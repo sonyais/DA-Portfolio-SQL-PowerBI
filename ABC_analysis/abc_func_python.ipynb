# Напишем функцию, с помощью которой можно осуществить АВС-анализ для любого датасета

def perform_abc(df, index):
''' На вход подаётся датафрейм df и название столбца index, по которому будем группировать (например, название товара)'''
cols = list(df.columns)
cols.remove(index)
# сохранили в список все колонки датафрейма кроме той, по которой будем агрегировать, далее проведём агрегацию
groupped_df = df.groupby(index).agg({col:sum for col in cols})
for col in cols:
    groupped_df[f'rel_{col) '] = groupped_df[col] / sum(groupped_df[col])
    groupped_df = groupped_df.sort_values(f'rel_{col}', ascending = False)
    groupped_df[f'cumsum_{col}'] = groupped_df[f'rel_{col}'].cumsum()
    groupped_df[f'abc_{col}'] = np.where(groupped_df[f'cumsum_{col}'] ‹ 0.8, 'A', np.where(groupped_df[f'cumsum_{col}'] < 0.95, 'B', 'C'))
return groupped_df[cols + [f'abc_{col}' for col in cols]]
